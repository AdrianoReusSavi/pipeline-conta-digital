{
 "cells": [
  {
   "cell_type": "code",
   "execution_count": null,
   "metadata": {
    "application/vnd.databricks.v1+cell": {
     "cellMetadata": {
      "byteLimit": 2048000,
      "rowLimit": 10000
     },
     "inputWidgets": {},
     "nuid": "ee6457a3-af0c-4ab2-bf7c-a529150b4efb",
     "showTitle": false,
     "title": ""
    }
   },
   "outputs": [],
   "source": [
    "import requests\n",
    "import json"
   ]
  },
  {
   "cell_type": "code",
   "execution_count": null,
   "metadata": {
    "application/vnd.databricks.v1+cell": {
     "cellMetadata": {
      "byteLimit": 2048000,
      "rowLimit": 10000
     },
     "inputWidgets": {},
     "nuid": "f17114c6-9f0b-4a1d-a2a0-520127d9d62c",
     "showTitle": false,
     "title": ""
    }
   },
   "outputs": [],
   "source": [
    "connectionString=\"\"\n",
    "database=\"conta_digital\"\n",
    "collection=\"users\""
   ]
  },
  {
   "cell_type": "code",
   "execution_count": null,
   "metadata": {
    "application/vnd.databricks.v1+cell": {
     "cellMetadata": {
      "byteLimit": 2048000,
      "rowLimit": 10000
     },
     "inputWidgets": {},
     "nuid": "6fe46a43-d8f6-4e74-b01b-116f25e49842",
     "showTitle": false,
     "title": ""
    }
   },
   "outputs": [],
   "source": [
    "def get_collections(colletion: str):\n",
    "  url = \"\"\n",
    "\n",
    "  payload = json.dumps({\n",
    "      \"collection\": colletion,\n",
    "      \"database\": \"conta_digital\",\n",
    "      \"dataSource\": \"DadosPipeline\",\n",
    "      \"projection\": {\n",
    "      }\n",
    "  })\n",
    "  headers = {\n",
    "    'Content-Type': 'application/json',\n",
    "    'Access-Control-Request-Headers': '*',\n",
    "    'api-key': '',\n",
    "  }\n",
    "\n",
    "  response = requests.request(\"POST\", url, headers=headers, data=payload)\n",
    "\n",
    "  resJson = json.loads(response.text)\n",
    "\n",
    "  doc_list = resJson['documents']\n",
    "\n",
    "  return doc_list"
   ]
  },
  {
   "cell_type": "code",
   "execution_count": null,
   "metadata": {
    "application/vnd.databricks.v1+cell": {
     "cellMetadata": {
      "byteLimit": 2048000,
      "rowLimit": 10000
     },
     "inputWidgets": {},
     "nuid": "89fe71ab-97ee-4471-ace9-73bbea0198d4",
     "showTitle": false,
     "title": ""
    }
   },
   "outputs": [],
   "source": [
    "users_df = spark.read.json(sc.parallelize(get_collections(\"users\")))\n",
    "application_df = spark.read.json(sc.parallelize(get_collections(\"applications\")))\n",
    "bank_accounts_df = spark.read.json(sc.parallelize(get_collections(\"bank_accounts\")))\n",
    "cards_df = spark.read.json(sc.parallelize(get_collections(\"cards\")))\n",
    "loans_df = spark.read.json(sc.parallelize(get_collections(\"loans\")))\n",
    "transactions_df = spark.read.json(sc.parallelize(get_collections(\"transactions\")))"
   ]
  },
  {
   "cell_type": "code",
   "execution_count": null,
   "metadata": {
    "application/vnd.databricks.v1+cell": {
     "cellMetadata": {
      "byteLimit": 2048000,
      "rowLimit": 10000
     },
     "inputWidgets": {},
     "nuid": "2c82b6b3-a81b-4eee-8093-72a4f19510c7",
     "showTitle": false,
     "title": ""
    }
   },
   "outputs": [],
   "source": [
    "# Conectando com Azure Data Lake usando SASToken\n",
    "storageAccountName = \"datalake3207a3fe3e4b6f13\"\n",
    "sasToken = \"sv=2022-11-02&ss=bfqt&srt=sco&sp=rwdlacupyx&se=2024-06-14T09:10:54Z&st=2024-06-14T01:10:54Z&spr=https&sig=vaz4iKWnbTe0fpGwBNE%2BsuMSgCDo2amBYcu3w4IY5oA%3D\"\n",
    "\n",
    "def mount_adls(blobContainerName):\n",
    "    try:\n",
    "      dbutils.fs.mount(\n",
    "        source = \"wasbs://{}@{}.blob.core.windows.net\".format(blobContainerName, storageAccountName),\n",
    "        mount_point = f\"/mnt/{storageAccountName}/{blobContainerName}\",\n",
    "        #extra_configs = {'fs.azure.account.key.' + storageAccountName + '.blob.core.windows.net': storageAccountAccessKey}\n",
    "        extra_configs = {'fs.azure.sas.' + blobContainerName + '.' + storageAccountName + '.blob.core.windows.net': sasToken}\n",
    "      )\n",
    "      print(\"OK!\")\n",
    "    except Exception as e:\n",
    "      print(\"Falha\", e)"
   ]
  },
  {
   "cell_type": "code",
   "execution_count": null,
   "metadata": {
    "application/vnd.databricks.v1+cell": {
     "cellMetadata": {
      "byteLimit": 2048000,
      "rowLimit": 10000
     },
     "inputWidgets": {},
     "nuid": "243cb328-7d44-41eb-8b50-2cf2b1640e07",
     "showTitle": false,
     "title": ""
    }
   },
   "outputs": [
    {
     "data": {
      "text/html": [
       "<style scoped>\n",
       "  .ansiout {\n",
       "    display: block;\n",
       "    unicode-bidi: embed;\n",
       "    white-space: pre-wrap;\n",
       "    word-wrap: break-word;\n",
       "    word-break: break-all;\n",
       "    font-family: \"Menlo\", \"Monaco\", \"Consolas\", \"Ubuntu Mono\", \"Source Code Pro\", monospace;\n",
       "    font-size: 13px;\n",
       "    color: #555;\n",
       "    margin-left: 4px;\n",
       "    line-height: 19px;\n",
       "  }\n",
       "</style>"
      ]
     },
     "metadata": {
      "application/vnd.databricks.v1+output": {
       "arguments": {},
       "data": "",
       "errorSummary": "Cancelled",
       "errorTraceType": "html",
       "metadata": {},
       "type": "ipynbError"
      }
     },
     "output_type": "display_data"
    }
   ],
   "source": [
    "# Montando os containers\n",
    "mount_adls('landing-zone')\n",
    "mount_adls('bronze')\n",
    "mount_adls('silver')\n",
    "mount_adls('gold')"
   ]
  },
  {
   "cell_type": "code",
   "execution_count": null,
   "metadata": {
    "application/vnd.databricks.v1+cell": {
     "cellMetadata": {
      "byteLimit": 2048000,
      "rowLimit": 10000
     },
     "inputWidgets": {},
     "nuid": "d337da4c-4a57-407c-b45d-5681d16502d2",
     "showTitle": false,
     "title": ""
    }
   },
   "outputs": [],
   "source": [
    "# Gravar dataframes em formato JSON na landaing zone\n",
    "users_df.write.format('json').save(f\"/mnt/{storageAccountName}/landing-zone/users\")\n",
    "transactions_df.write.format('json').save(f\"/mnt/{storageAccountName}/landing-zone/transactions\")\n",
    "loans_df.write.format('json').save(f\"/mnt/{storageAccountName}/landing-zone/loans\")\n",
    "cards_df.write.format('json').save(f\"/mnt/{storageAccountName}/landing-zone/cards\")\n",
    "bank_accounts_df.write.format('json').save(f\"/mnt/{storageAccountName}/landing-zone/bank_accounts\")\n",
    "application_df.write.format('json').save(f\"/mnt/{storageAccountName}/landing-zone/application\")"
   ]
  }
 ],
 "metadata": {
  "application/vnd.databricks.v1+notebook": {
   "dashboards": [],
   "environmentMetadata": null,
   "language": "python",
   "notebookMetadata": {
    "pythonIndentUnit": 4
   },
   "notebookName": "landing-zone",
   "widgets": {}
  },
  "language_info": {
   "name": "python"
  }
 },
 "nbformat": 4,
 "nbformat_minor": 0
}
