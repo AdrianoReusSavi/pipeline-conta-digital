{
 "cells": [
  {
   "cell_type": "code",
   "execution_count": null,
   "metadata": {
    "application/vnd.databricks.v1+cell": {
     "cellMetadata": {
      "byteLimit": 2048000,
      "rowLimit": 10000
     },
     "inputWidgets": {},
     "nuid": "dec4338f-78af-4cfe-a436-5bb6f03c594c",
     "showTitle": false,
     "title": ""
    }
   },
   "outputs": [],
   "source": [
    "# Data Lake name\n",
    "storageAccountName = \"datalakeea7f393041fb9df4\""
   ]
  },
  {
   "cell_type": "code",
   "execution_count": null,
   "metadata": {
    "application/vnd.databricks.v1+cell": {
     "cellMetadata": {
      "byteLimit": 2048000,
      "rowLimit": 10000
     },
     "inputWidgets": {},
     "nuid": "ff09f2cd-8d58-438e-82f4-4b3fff69601e",
     "showTitle": false,
     "title": ""
    }
   },
   "outputs": [
    {
     "data": {
      "text/html": [
       "<style scoped>\n",
       "  .table-result-container {\n",
       "    max-height: 300px;\n",
       "    overflow: auto;\n",
       "  }\n",
       "  table, th, td {\n",
       "    border: 1px solid black;\n",
       "    border-collapse: collapse;\n",
       "  }\n",
       "  th, td {\n",
       "    padding: 5px;\n",
       "  }\n",
       "  th {\n",
       "    text-align: left;\n",
       "  }\n",
       "</style><div class='table-result-container'><table class='table-result'><thead style='background-color: white'><tr><th>path</th><th>name</th><th>size</th><th>modificationTime</th></tr></thead><tbody><tr><td>dbfs:/mnt/datalakeea7f393041fb9df4/silver/application/</td><td>application/</td><td>0</td><td>0</td></tr><tr><td>dbfs:/mnt/datalakeea7f393041fb9df4/silver/bank_accounts/</td><td>bank_accounts/</td><td>0</td><td>0</td></tr><tr><td>dbfs:/mnt/datalakeea7f393041fb9df4/silver/cards/</td><td>cards/</td><td>0</td><td>0</td></tr><tr><td>dbfs:/mnt/datalakeea7f393041fb9df4/silver/transactions/</td><td>transactions/</td><td>0</td><td>0</td></tr><tr><td>dbfs:/mnt/datalakeea7f393041fb9df4/silver/users/</td><td>users/</td><td>0</td><td>0</td></tr></tbody></table></div>"
      ]
     },
     "metadata": {
      "application/vnd.databricks.v1+output": {
       "addedWidgets": {},
       "aggData": [],
       "aggError": "",
       "aggOverflow": false,
       "aggSchema": [],
       "aggSeriesLimitReached": false,
       "aggType": "",
       "arguments": {},
       "columnCustomDisplayInfos": {},
       "data": [
        [
         "dbfs:/mnt/datalakeea7f393041fb9df4/silver/application/",
         "application/",
         0,
         0
        ],
        [
         "dbfs:/mnt/datalakeea7f393041fb9df4/silver/bank_accounts/",
         "bank_accounts/",
         0,
         0
        ],
        [
         "dbfs:/mnt/datalakeea7f393041fb9df4/silver/cards/",
         "cards/",
         0,
         0
        ],
        [
         "dbfs:/mnt/datalakeea7f393041fb9df4/silver/transactions/",
         "transactions/",
         0,
         0
        ],
        [
         "dbfs:/mnt/datalakeea7f393041fb9df4/silver/users/",
         "users/",
         0,
         0
        ]
       ],
       "datasetInfos": [],
       "dbfsResultPath": null,
       "isJsonSchema": true,
       "metadata": {},
       "overflow": false,
       "plotOptions": {
        "customPlotOptions": {},
        "displayType": "table",
        "pivotAggregation": null,
        "pivotColumns": null,
        "xColumns": null,
        "yColumns": null
       },
       "removedWidgets": [],
       "schema": [
        {
         "metadata": "{}",
         "name": "path",
         "type": "\"string\""
        },
        {
         "metadata": "{}",
         "name": "name",
         "type": "\"string\""
        },
        {
         "metadata": "{}",
         "name": "size",
         "type": "\"long\""
        },
        {
         "metadata": "{}",
         "name": "modificationTime",
         "type": "\"long\""
        }
       ],
       "type": "table"
      }
     },
     "output_type": "display_data"
    }
   ],
   "source": [
    "display(dbutils.fs.ls(f\"/mnt/{storageAccountName}/silver\"))"
   ]
  },
  {
   "cell_type": "code",
   "execution_count": null,
   "metadata": {
    "application/vnd.databricks.v1+cell": {
     "cellMetadata": {
      "byteLimit": 2048000,
      "rowLimit": 10000
     },
     "inputWidgets": {},
     "nuid": "6a72094a-cf4f-4853-b14a-94504a7aa92f",
     "showTitle": false,
     "title": ""
    }
   },
   "outputs": [],
   "source": [
    "# Gerando DF baseado nos arquivos delta da camada silver\n",
    "df_application = spark.read.format('delta').load(f\"/mnt/{storageAccountName}/silver/application\")\n",
    "df_bank_accounts = spark.read.format('delta').load(f\"/mnt/{storageAccountName}/silver/bank_accounts\")\n",
    "df_cards = spark.read.format('delta').load(f\"/mnt/{storageAccountName}/silver/cards\")\n",
    "#df_loans = spark.read.format('delta').load(f\"/mnt/{storageAccountName}/silver/loans\")\n",
    "df_transactions = spark.read.format('delta').load(f\"/mnt/{storageAccountName}/silver/transactions\")\n",
    "df_users = spark.read.format('delta').load(f\"/mnt/{storageAccountName}/silver/users\")\n"
   ]
  },
  {
   "cell_type": "code",
   "execution_count": null,
   "metadata": {
    "application/vnd.databricks.v1+cell": {
     "cellMetadata": {
      "byteLimit": 2048000,
      "rowLimit": 10000
     },
     "inputWidgets": {},
     "nuid": "8b2c6caa-fda4-4c93-a374-b342cff92f56",
     "showTitle": false,
     "title": ""
    }
   },
   "outputs": [],
   "source": [
    "from pyspark.sql.functions import col\n",
    "\n",
    "df_application.createOrReplaceTempView(\"df_application\")\n",
    "\n",
    "df_bank_accounts.createOrReplaceTempView(\"df_bank_accounts\")\n",
    "\n",
    "df_cards.createOrReplaceTempView(\"df_cards\")\n",
    "\n",
    "''' with spark.sql.builder.temporaryView(\"table2\") as table2:\n",
    "  df2.createOrReplaceTempView(table2) '''\n",
    "\n",
    "df_transactions.createOrReplaceTempView(\"df_transactions\")\n",
    "\n",
    "df_users.createOrReplaceTempView(\"df_users\")\n",
    "\n",
    "join_cte = spark.sql(\"\"\"\n",
    "  SELECT t1.USERID, t1.APPLICATION_TYPE, t1.CREATED_AT as CREATED_AT_APPL, t1.INTEREST_RATE, t1.VALUE as VALUE_APPL,\n",
    "  t2.BALANCE, t2.CREDIT_LIMIT,\n",
    "  t3.CARD_CVV, t3.CARD_HOLDER, t3.CARD_MEMBER_SINCE, t3.CARD_NUMBER, t3.CARD_TYPE, t3.CARD_VALIDATION_DATE,\n",
    "  t4.BALANCE_CHANGE_TYPE, t4.CREATED_AT as CREATED_AT_BA, t4.TYPE, t4.VAlUE as VALUE_BA,\n",
    "  t5.PERSONID\n",
    "  FROM df_application t1\n",
    "   JOIN df_bank_accounts t2 ON t1.USERID = t2.USERID\n",
    "   JOIN df_cards t3 on t1.USERID = t3.USERID\n",
    "   JOIN df_transactions t4 on t1.USERID = t4.USERID\n",
    "   JOIN df_users t5 on t1.USERID = t5.ID\n",
    "\"\"\")"
   ]
  },
  {
   "cell_type": "code",
   "execution_count": null,
   "metadata": {
    "application/vnd.databricks.v1+cell": {
     "cellMetadata": {
      "byteLimit": 2048000,
      "rowLimit": 10000
     },
     "inputWidgets": {},
     "nuid": "05a286b8-6b3c-4caf-b75f-04c7fd296b1f",
     "showTitle": false,
     "title": ""
    }
   },
   "outputs": [
    {
     "data": {
      "text/plain": [
       "<pyspark.sql.readwriter.DataFrameWriter at 0x7fe4dcf70c70>"
      ]
     },
     "execution_count": 125,
     "metadata": {},
     "output_type": "execute_result"
    }
   ],
   "source": [
    "join_cte.write.option(\n",
    "    \"path\", f\"dbfs:/mnt/{storageAccountName}/gold/obt\"\n",
    ")"
   ]
  },
  {
   "cell_type": "code",
   "execution_count": null,
   "metadata": {
    "application/vnd.databricks.v1+cell": {
     "cellMetadata": {
      "byteLimit": 2048000,
      "rowLimit": 10000
     },
     "inputWidgets": {},
     "nuid": "ceb697df-845f-48c7-9d20-fa59e5256838",
     "showTitle": false,
     "title": ""
    }
   },
   "outputs": [],
   "source": [
    "join_cte.write.mode(\"overwrite\").saveAsTable(\"pipelinelinda.dashdb.obt\")"
   ]
  }
 ],
 "metadata": {
  "application/vnd.databricks.v1+notebook": {
   "dashboards": [],
   "environmentMetadata": null,
   "language": "python",
   "notebookMetadata": {
    "pythonIndentUnit": 4
   },
   "notebookName": "gold",
   "widgets": {}
  },
  "language_info": {
   "name": "python"
  }
 },
 "nbformat": 4,
 "nbformat_minor": 0
}
