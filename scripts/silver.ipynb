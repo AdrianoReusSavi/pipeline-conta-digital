{
 "cells": [
  {
   "cell_type": "code",
   "execution_count": 0,
   "metadata": {
    "application/vnd.databricks.v1+cell": {
     "cellMetadata": {
      "byteLimit": 2048000,
      "rowLimit": 10000
     },
     "inputWidgets": {},
     "nuid": "d77ece37-5131-4cb6-856f-406782732bcb",
     "showTitle": false,
     "title": ""
    }
   },
   "outputs": [],
   "source": [
    "# Data Lake name\n",
    "storageAccountName = \"datalakef30b94371f0fa0cb\""
   ]
  },
  {
   "cell_type": "code",
   "execution_count": 0,
   "metadata": {
    "application/vnd.databricks.v1+cell": {
     "cellMetadata": {
      "byteLimit": 2048000,
      "rowLimit": 10000
     },
     "inputWidgets": {},
     "nuid": "f9fc321e-1104-4d9d-afe5-b3b32859ddf9",
     "showTitle": false,
     "title": ""
    }
   },
   "outputs": [
    {
     "output_type": "display_data",
     "data": {
      "text/html": [
       "<style scoped>\n",
       "  .table-result-container {\n",
       "    max-height: 300px;\n",
       "    overflow: auto;\n",
       "  }\n",
       "  table, th, td {\n",
       "    border: 1px solid black;\n",
       "    border-collapse: collapse;\n",
       "  }\n",
       "  th, td {\n",
       "    padding: 5px;\n",
       "  }\n",
       "  th {\n",
       "    text-align: left;\n",
       "  }\n",
       "</style><div class='table-result-container'><table class='table-result'><thead style='background-color: white'><tr><th>path</th><th>name</th><th>size</th><th>modificationTime</th></tr></thead><tbody><tr><td>dbfs:/mnt/datalakef30b94371f0fa0cb/bronze/application/</td><td>application/</td><td>0</td><td>0</td></tr><tr><td>dbfs:/mnt/datalakef30b94371f0fa0cb/bronze/bank_accounts/</td><td>bank_accounts/</td><td>0</td><td>0</td></tr><tr><td>dbfs:/mnt/datalakef30b94371f0fa0cb/bronze/cards/</td><td>cards/</td><td>0</td><td>0</td></tr><tr><td>dbfs:/mnt/datalakef30b94371f0fa0cb/bronze/loans/</td><td>loans/</td><td>0</td><td>0</td></tr><tr><td>dbfs:/mnt/datalakef30b94371f0fa0cb/bronze/transactions/</td><td>transactions/</td><td>0</td><td>0</td></tr><tr><td>dbfs:/mnt/datalakef30b94371f0fa0cb/bronze/users/</td><td>users/</td><td>0</td><td>0</td></tr></tbody></table></div>"
      ]
     },
     "metadata": {
      "application/vnd.databricks.v1+output": {
       "addedWidgets": {},
       "aggData": [],
       "aggError": "",
       "aggOverflow": false,
       "aggSchema": [],
       "aggSeriesLimitReached": false,
       "aggType": "",
       "arguments": {},
       "columnCustomDisplayInfos": {},
       "data": [
        [
         "dbfs:/mnt/datalakef30b94371f0fa0cb/bronze/application/",
         "application/",
         0,
         0
        ],
        [
         "dbfs:/mnt/datalakef30b94371f0fa0cb/bronze/bank_accounts/",
         "bank_accounts/",
         0,
         0
        ],
        [
         "dbfs:/mnt/datalakef30b94371f0fa0cb/bronze/cards/",
         "cards/",
         0,
         0
        ],
        [
         "dbfs:/mnt/datalakef30b94371f0fa0cb/bronze/loans/",
         "loans/",
         0,
         0
        ],
        [
         "dbfs:/mnt/datalakef30b94371f0fa0cb/bronze/transactions/",
         "transactions/",
         0,
         0
        ],
        [
         "dbfs:/mnt/datalakef30b94371f0fa0cb/bronze/users/",
         "users/",
         0,
         0
        ]
       ],
       "datasetInfos": [],
       "dbfsResultPath": null,
       "isJsonSchema": true,
       "metadata": {},
       "overflow": false,
       "plotOptions": {
        "customPlotOptions": {},
        "displayType": "table",
        "pivotAggregation": null,
        "pivotColumns": null,
        "xColumns": null,
        "yColumns": null
       },
       "removedWidgets": [],
       "schema": [
        {
         "metadata": "{}",
         "name": "path",
         "type": "\"string\""
        },
        {
         "metadata": "{}",
         "name": "name",
         "type": "\"string\""
        },
        {
         "metadata": "{}",
         "name": "size",
         "type": "\"long\""
        },
        {
         "metadata": "{}",
         "name": "modificationTime",
         "type": "\"long\""
        }
       ],
       "type": "table"
      }
     },
     "output_type": "display_data"
    }
   ],
   "source": [
    "display(dbutils.fs.ls(f\"/mnt/{storageAccountName}/bronze\"))"
   ]
  },
  {
   "cell_type": "code",
   "execution_count": 0,
   "metadata": {
    "application/vnd.databricks.v1+cell": {
     "cellMetadata": {
      "byteLimit": 2048000,
      "rowLimit": 10000
     },
     "inputWidgets": {},
     "nuid": "6e845f74-fc41-4972-8d79-b8b0d2454b06",
     "showTitle": false,
     "title": ""
    }
   },
   "outputs": [],
   "source": [
    "# Lendo os arquivos delta e transformando em DataFrame\n",
    "df_application   = spark.read.format('delta').load(f\"/mnt/{storageAccountName}/bronze/application\")\n",
    "df_bank_accounts   = spark.read.format('delta').load(f\"/mnt/{storageAccountName}/bronze/bank_accounts\")\n",
    "df_cards   = spark.read.format('delta').load(f\"/mnt/{storageAccountName}/bronze/cards\")\n",
    "df_loans   = spark.read.format('delta').load(f\"/mnt/{storageAccountName}/bronze/loans\")\n",
    "df_transactions   = spark.read.format('delta').load(f\"/mnt/{storageAccountName}/bronze/transactions\")\n",
    "df_users   = spark.read.format('delta').load(f\"/mnt/{storageAccountName}/bronze/users\")"
   ]
  },
  {
   "cell_type": "code",
   "execution_count": 0,
   "metadata": {
    "application/vnd.databricks.v1+cell": {
     "cellMetadata": {
      "byteLimit": 2048000,
      "rowLimit": 10000
     },
     "inputWidgets": {},
     "nuid": "8fdf16ec-b662-464b-b600-482012190e27",
     "showTitle": false,
     "title": ""
    }
   },
   "outputs": [],
   "source": [
    "# Adicionando data da criação e nome do arquivo de origem\n",
    "from pyspark.sql.functions import current_timestamp, lit\n",
    "\n",
    "df_application = df_application.withColumn(\"data_hora_silver\", current_timestamp()).withColumn(\"nome_arquivo\", lit(\"application\"))\n",
    "df_bank_accounts = df_bank_accounts.withColumn(\"data_hora_silver\", current_timestamp()).withColumn(\"nome_arquivo\", lit(\"bank_accounts\"))\n",
    "df_cards = df_cards.withColumn(\"data_hora_silver\", current_timestamp()).withColumn(\"nome_arquivo\", lit(\"cards\"))\n",
    "df_loans = df_loans.withColumn(\"data_hora_silver\", current_timestamp()).withColumn(\"nome_arquivo\", lit(\"loans\"))\n",
    "df_transactions = df_transactions.withColumn(\"data_hora_silver\", current_timestamp()).withColumn(\"nome_arquivo\", lit(\"transactions\"))\n",
    "df_users = df_users.withColumn(\"data_hora_silver\", current_timestamp()).withColumn(\"nome_arquivo\", lit(\"users\"))"
   ]
  },
  {
   "cell_type": "code",
   "execution_count": 0,
   "metadata": {
    "application/vnd.databricks.v1+cell": {
     "cellMetadata": {
      "byteLimit": 2048000,
      "rowLimit": 10000
     },
     "inputWidgets": {},
     "nuid": "89ddaaf6-c45e-4fe2-8bee-2e80052d54ed",
     "showTitle": false,
     "title": ""
    }
   },
   "outputs": [],
   "source": [
    "#Fucao para renomear as colunas de cada delta table para maiuscula e ajusta o nome das colunas de acordo com o dicionario de dados\n",
    "def renomear_colunas(diretorio):\n",
    "\n",
    "    # Carregue o DataFrame a partir do delta\n",
    "    df = spark.read.format('delta').load(diretorio)\n",
    "\n",
    "    tabela = diretorio.split('/')[-2]\n",
    "\n",
    "    # Renomeie todas as colunas para maiúsculas e faça a substituição do padrão \"cd_\" para \"codigo_\"\n",
    "    for coluna in df.columns:\n",
    "        novo_nome = coluna.upper()\n",
    "        df = df.withColumnRenamed(coluna, novo_nome)\n",
    "        df = df.drop(\"DATA_HORA_BRONZE\")\n",
    "        df = df.drop(\"NOME_ARQUIVO\")\n",
    "        df = df.withColumn(\"NOME_ARQUIVO_BRONZE\", lit(tabela))\n",
    "        df = df.withColumn(\"DATA_ARQUIVO_SILVER\", current_timestamp())\n",
    "\n",
    "    # Salve o DataFrame modificado de volta no mesmo local\n",
    "    #df.display()\n",
    "    df.write.format('delta').save(f\"/mnt/{storageAccountName}/silver/{tabela}\")\n",
    "\n",
    "#Funcao que chama a funcao renomear colunas para todos os arquivos contidos no container\n",
    "def renomear_arquivos_delta(diretorio):\n",
    "\n",
    "    # Lista para armazenar os nomes dos arquivos delta\n",
    "    nomes_arquivos_delta = []\n",
    "\n",
    "    # Lista os arquivos no diretório\n",
    "    arquivos = dbutils.fs.ls(diretorio)\n",
    "    \n",
    "    # Itera sobre os arquivos e armazena os nomes dos arquivos delta\n",
    "    for arquivo in arquivos:\n",
    "        nome_arquivo = arquivo.path\n",
    "        # Remover as aspas e a barra (/) no final do nome do arquivo\n",
    "        #nome_arquivo = nome_arquivo.rstrip('/')\n",
    "        #nomes_arquivos_delta.append(nome_arquivo)\n",
    "        renomear_colunas(nome_arquivo)\n",
    "        #print(nome_arquivo)\n",
    "\n",
    "    return nomes_arquivos_delta"
   ]
  },
  {
   "cell_type": "code",
   "execution_count": 0,
   "metadata": {
    "application/vnd.databricks.v1+cell": {
     "cellMetadata": {
      "byteLimit": 2048000,
      "rowLimit": 10000
     },
     "inputWidgets": {},
     "nuid": "f7bc05f5-bd14-4f68-85b6-bef5f3a1333f",
     "showTitle": false,
     "title": ""
    }
   },
   "outputs": [
    {
     "output_type": "stream",
     "name": "stdout",
     "output_type": "stream",
     "text": [
      "Out[16]: []"
     ]
    }
   ],
   "source": [
    "# Executa a funcao para atualizar todos os dataframes\n",
    "diretorio = f'/mnt/{storageAccountName}/bronze'\n",
    "\n",
    "renomear_arquivos_delta(diretorio)"
   ]
  },
  {
   "cell_type": "code",
   "execution_count": 0,
   "metadata": {
    "application/vnd.databricks.v1+cell": {
     "cellMetadata": {
      "byteLimit": 2048000,
      "rowLimit": 10000
     },
     "inputWidgets": {},
     "nuid": "c13ae00d-d9e2-4bd2-8176-0c7ebd5f618b",
     "showTitle": false,
     "title": ""
    }
   },
   "outputs": [
    {
     "output_type": "stream",
     "name": "stdout",
     "output_type": "stream",
     "text": [
      "Arquivos no diretório:\napplication APPLICATION\nbank_accounts BANK_ACCOUNTS\ncards CARDS\nloans LOANS\ntransactions TRANSACTIONS\nusers USERS\n"
     ]
    }
   ],
   "source": [
    "#Funcao auxiliar\n",
    "import os\n",
    "\n",
    "# Use a função para renomear as colunas para maiúsculo em um diretório específico\n",
    "diretorio = f'/mnt/{storageAccountName}/bronze/'\n",
    "\n",
    "arquivos = dbutils.fs.ls(diretorio)\n",
    "\n",
    "# Imprime os nomes dos arquivos\n",
    "print(\"Arquivos no diretório:\")\n",
    "for arquivo in arquivos:\n",
    "    print(arquivo.name.rstrip('/'), arquivo.name.rstrip('/').upper())"
   ]
  }
 ],
 "metadata": {
  "application/vnd.databricks.v1+notebook": {
   "dashboards": [],
   "environmentMetadata": null,
   "language": "python",
   "notebookMetadata": {
    "pythonIndentUnit": 4
   },
   "notebookName": "silver",
   "widgets": {}
  }
 },
 "nbformat": 4,
 "nbformat_minor": 0
}
